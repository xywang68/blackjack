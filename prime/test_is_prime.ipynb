{
 "cells": [
  {
   "attachments": {},
   "cell_type": "markdown",
   "metadata": {},
   "source": [
    "## is_prime function\n",
    "\n",
    "is_prime is a weak prime finding fuction. I can find prime number up to 16 digits (9999999900000001). Beyond that is up to luck.\n",
    "It will return True if the number is a prime, and False otherwise.\n"
   ]
  },
  {
   "cell_type": "code",
   "execution_count": 3,
   "metadata": {},
   "outputs": [
    {
     "ename": "TypeError",
     "evalue": "object of type 'int' has no len()",
     "output_type": "error",
     "traceback": [
      "\u001b[0;31m---------------------------------------------------------------------------\u001b[0m",
      "\u001b[0;31mTypeError\u001b[0m                                 Traceback (most recent call last)",
      "Cell \u001b[0;32mIn[3], line 5\u001b[0m\n\u001b[1;32m      1\u001b[0m \u001b[39mfrom\u001b[39;00m \u001b[39mcheck_prime\u001b[39;00m \u001b[39mimport\u001b[39;00m is_prime\n\u001b[1;32m      3\u001b[0m my_num \u001b[39m=\u001b[39m \u001b[39m9999999900000001\u001b[39m\n\u001b[0;32m----> 5\u001b[0m \u001b[39mprint\u001b[39m(\u001b[39mlen\u001b[39;49m(my_num))\n\u001b[1;32m      6\u001b[0m \u001b[39mprint\u001b[39m(is_prime(my_num))\n",
      "\u001b[0;31mTypeError\u001b[0m: object of type 'int' has no len()"
     ]
    }
   ],
   "source": [
    "from check_prime import is_prime\n",
    "\n",
    "my_num = 9999999900000001\n",
    "\n",
    "print(is_prime(my_num))\n"
   ]
  }
 ],
 "metadata": {
  "kernelspec": {
   "display_name": "python3-venv",
   "language": "python",
   "name": "python3"
  },
  "language_info": {
   "codemirror_mode": {
    "name": "ipython",
    "version": 3
   },
   "file_extension": ".py",
   "mimetype": "text/x-python",
   "name": "python",
   "nbconvert_exporter": "python",
   "pygments_lexer": "ipython3",
   "version": "3.10.6"
  },
  "orig_nbformat": 4,
  "vscode": {
   "interpreter": {
    "hash": "256ec9299993e840195c1880911bcb275a484be24a1a2b69d9ed3a75f0c6b65f"
   }
  }
 },
 "nbformat": 4,
 "nbformat_minor": 2
}
