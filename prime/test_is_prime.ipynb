{
 "cells": [
  {
   "attachments": {},
   "cell_type": "markdown",
   "metadata": {},
   "source": [
    "## is_prime function\n",
    "\n",
    "is_prime is a weak prime finding fuction. I can find prime number up to 16 digits (9999999900000001). Beyond that is up to luck.\n",
    "It will return True if the number is a prime, and False otherwise.\n"
   ]
  },
  {
   "cell_type": "code",
   "execution_count": 4,
   "metadata": {},
   "outputs": [
    {
     "name": "stdout",
     "output_type": "stream",
     "text": [
      "True\n"
     ]
    }
   ],
   "source": [
    "from check_prime import is_prime\n",
    "\n",
    "my_num = 9999999900000001\n",
    "\n",
    "print(is_prime(my_num))\n"
   ]
  },
  {
   "attachments": {},
   "cell_type": "markdown",
   "metadata": {},
   "source": [
    "## get_primes_from_list function\n",
    "\n",
    "get_primes_from_list function retrurns a list if prime numbers within a list of numbers.\n",
    "Suppose you can use the python range function range(2,5000) to create a list of numbers from 2 to 5000.\n",
    "You can pass this list into get_primes_from_list(range(2,5000) and you will get all the prime numbers from 2 to 5000."
   ]
  },
  {
   "cell_type": "code",
   "execution_count": 6,
   "metadata": {},
   "outputs": [
    {
     "name": "stdout",
     "output_type": "stream",
     "text": [
      "669\n"
     ]
    }
   ],
   "source": [
    "my_list = list(range(2,5000))\n",
    "from check_prime import get_primes_from_list\n",
    "my_prime = list(get_primes_from_list(my_list))\n",
    "print(my_prime)\n"
   ]
  }
 ],
 "metadata": {
  "kernelspec": {
   "display_name": "python3-venv",
   "language": "python",
   "name": "python3"
  },
  "language_info": {
   "codemirror_mode": {
    "name": "ipython",
    "version": 3
   },
   "file_extension": ".py",
   "mimetype": "text/x-python",
   "name": "python",
   "nbconvert_exporter": "python",
   "pygments_lexer": "ipython3",
   "version": "3.10.6"
  },
  "orig_nbformat": 4,
  "vscode": {
   "interpreter": {
    "hash": "256ec9299993e840195c1880911bcb275a484be24a1a2b69d9ed3a75f0c6b65f"
   }
  }
 },
 "nbformat": 4,
 "nbformat_minor": 2
}
